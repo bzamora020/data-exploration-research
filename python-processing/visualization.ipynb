{
 "cells": [
  {
   "cell_type": "code",
   "execution_count": null,
   "metadata": {},
   "outputs": [],
   "source": []
  },
  {
   "cell_type": "code",
   "execution_count": 2,
   "metadata": {},
   "outputs": [
    {
     "ename": "NameError",
     "evalue": "name 'sns' is not defined",
     "output_type": "error",
     "traceback": [
      "\u001b[1;31m---------------------------------------------------------------------------\u001b[0m",
      "\u001b[1;31mNameError\u001b[0m                                 Traceback (most recent call last)",
      "\u001b[1;32m<ipython-input-2-a561384ba9f6>\u001b[0m in \u001b[0;36m<module>\u001b[1;34m\u001b[0m\n\u001b[0;32m      3\u001b[0m \u001b[1;33m\u001b[0m\u001b[0m\n\u001b[0;32m      4\u001b[0m \u001b[1;31m# use the function regplot to make a scatterplot\u001b[0m\u001b[1;33m\u001b[0m\u001b[1;33m\u001b[0m\u001b[1;33m\u001b[0m\u001b[0m\n\u001b[1;32m----> 5\u001b[1;33m \u001b[0msns\u001b[0m\u001b[1;33m.\u001b[0m\u001b[0mpairplot\u001b[0m\u001b[1;33m(\u001b[0m\u001b[0mdf\u001b[0m\u001b[1;33m)\u001b[0m\u001b[1;33m\u001b[0m\u001b[1;33m\u001b[0m\u001b[0m\n\u001b[0m",
      "\u001b[1;31mNameError\u001b[0m: name 'sns' is not defined"
     ]
    }
   ],
   "source": [
    "import pandas as pd\n",
    "df = pd.read_csv(\"statesSortedOnNumShootings.csv\")\n",
    "\n",
    "# use the function regplot to make a scatterplot\n",
    "sns.pairplot(df)"
   ]
  },
  {
   "cell_type": "code",
   "execution_count": null,
   "metadata": {},
   "outputs": [],
   "source": [
    "df = pd.read_csv(\"countiesDemogAndShootingCA.csv\")\n",
    "\n",
    "# use the function regplot to make a scatterplot\n",
    "sns.pairplot(df)"
   ]
  },
  {
   "cell_type": "code",
   "execution_count": null,
   "metadata": {},
   "outputs": [],
   "source": [
    "\n"
   ]
  },
  {
   "cell_type": "code",
   "execution_count": null,
   "metadata": {},
   "outputs": [],
   "source": [
    "df = pd.read_csv(\"statesSortedOnNumShootingsSelected.csv\")\n",
    "\n",
    "\n",
    "# use the function regplot to make a scatterplot\n",
    "import numpy as np\n",
    "import matplotlib.pyplot as plt\n",
    "\n",
    "# set width of bars\n",
    "barWidth = 0.5\n",
    "\n",
    "bars1 = [df.iloc[0,3], df.iloc[1,3], df.iloc[2,3],df.iloc[3,3], df.iloc[4,3], df.iloc[5,3]]\n",
    "bars2 = [df.iloc[0,8], df.iloc[1,8], df.iloc[2,8],df.iloc[3,8], df.iloc[3,8], df.iloc[3,8]]\n",
    "\n",
    "\n",
    "\n",
    "# Set position of bar on X axis\n",
    "r1 = np.arange(len(bars1))\n",
    "r2 = [x + barWidth for x in r1]\n",
    "\n",
    "# Make the plot\n",
    "plt.bar(r1, bars1, color='#b022c9', width=barWidth, edgecolor='white', label='Percentage of Shootings against Black')\n",
    "plt.bar(r2, bars2, color='#2249c9', width=barWidth, edgecolor='white', label='Percentage of Demographic that is Black')\n",
    "\n",
    "# Add xticks on the middle of the group bars\n",
    "plt.xlabel('States', fontweight='bold')\n",
    "plt.ylabel('Percentage', fontweight='bold')\n",
    "plt.xticks([r + barWidth for r in range(len(bars1))], [df.iloc[0,0], df.iloc[1,0], df.iloc[2,0], df.iloc[3,0], df.iloc[4,0], df.iloc[5,0] ])\n",
    " \n",
    "# Create legend & Show graphic\n",
    "plt.legend()\n",
    "plt.show()"
   ]
  },
  {
   "cell_type": "code",
   "execution_count": 50,
   "metadata": {},
   "outputs": [
    {
     "data": {
      "text/plain": [
       "[]"
      ]
     },
     "execution_count": 50,
     "metadata": {},
     "output_type": "execute_result"
    },
    {
     "data": {
      "image/png": "[encoded data removed]",
      "text/plain": [
       "<Figure size 432x288 with 1 Axes>"
      ]
     },
     "metadata": {
      "needs_background": "light"
     },
     "output_type": "display_data"
    }
   ],
   "source": [
    "import seaborn as sns\n",
    "\n",
    "# use the function regplot to make a scatterplot\n",
    "import numpy as np\n",
    "import matplotlib.pyplot as plt\n",
    "\n",
    "\n",
    "import pandas as pd\n",
    "df = pd.read_csv(\"statesSortedOnNumShootingsSelected.csv\")\n",
    "\n",
    "# set width of bars\n",
    "barWidth = 0.25\n",
    "\n",
    "#sets the demog variable\n",
    "z = 6\n",
    "\n",
    "#Sets the shooting variable\n",
    "y = 12\n",
    "\n",
    "bars1 = [df.iloc[0,y], df.iloc[1,y], df.iloc[2,y],df.iloc[3,y], df.iloc[4,y], df.iloc[5,y]]\n",
    "bars2 = [df.iloc[0,z], df.iloc[1,z], df.iloc[2,z],df.iloc[3,z], df.iloc[3,z], df.iloc[5,z]]\n",
    "\n",
    "\n",
    "\n",
    "# Set position of bar on X axis\n",
    "r1 = np.arange(len(bars1))\n",
    "r2 = [x + barWidth for x in r1]\n",
    "\n",
    "#Name variable\n",
    "\n",
    "temp = \"Asian\"\n",
    "\n",
    "# Make the plot\n",
    "plt.bar(r1, bars1, color='#b022c9', width=barWidth, edgecolor='white', label='Percentage of Shootings against ' + temp)\n",
    "plt.bar(r2, bars2, color='#2249c9', width=barWidth, edgecolor='white', label='Percentage of Demographic that is ' + temp)\n",
    "\n",
    "# Add xticks on the middle of the group bars\n",
    "plt.yticks(np.arange(0,100, 5))\n",
    "plt.xlabel('States', fontweight='bold')\n",
    "plt.ylabel('Percentage', fontweight='bold')\n",
    "plt.xticks([r + barWidth for r in range(len(bars1))], [df.iloc[0,0], df.iloc[1,0], df.iloc[2,0], df.iloc[3,0], df.iloc[4,0], df.iloc[5,0] ])\n",
    " \n",
    "# Create legend & Show graphic\n",
    "plt.title('% of Shootings/Population of ' + temp + ' People per State')\n",
    "plt.legend(loc='upper center', bbox_to_anchor=(1.45, 0.8), shadow=True, ncol=1)\n",
    "plt.plot()\n"
   ]
  },
  {
   "cell_type": "code",
   "execution_count": null,
   "metadata": {},
   "outputs": [],
   "source": []
  },
  {
   "cell_type": "code",
   "execution_count": null,
   "metadata": {},
   "outputs": [],
   "source": []
  }
 ],
 "metadata": {
  "kernelspec": {
   "display_name": "Python 3",
   "language": "python",
   "name": "python3"
  },
  "language_info": {
   "codemirror_mode": {
    "name": "ipython",
    "version": 3
   },
   "file_extension": ".py",
   "mimetype": "text/x-python",
   "name": "python",
   "nbconvert_exporter": "python",
   "pygments_lexer": "ipython3",
   "version": "3.9.4"
  }
 },
 "nbformat": 4,
 "nbformat_minor": 4
}
